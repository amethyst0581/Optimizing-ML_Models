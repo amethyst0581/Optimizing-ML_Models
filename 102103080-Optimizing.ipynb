{
 "cells": [
  {
   "cell_type": "code",
   "execution_count": 6,
   "id": "ccb8fa8b",
   "metadata": {},
   "outputs": [
    {
     "name": "stdout",
     "output_type": "stream",
     "text": [
      "Sample 1 - Accuracy: 0.6540156709108716, Parameters: {'max_depth': 2, 'min_samples_split': 8, 'min_samples_leaf': 2, 'criterion': 'gini'}\n",
      "Sample 2 - Accuracy: 0.8966699314397649, Parameters: {'max_depth': 13, 'min_samples_split': 8, 'min_samples_leaf': 1, 'criterion': 'gini'}\n",
      "Sample 3 - Accuracy: 0.8041136141038198, Parameters: {'max_depth': 3, 'min_samples_split': 5, 'min_samples_leaf': 4, 'criterion': 'entropy'}\n",
      "Sample 4 - Accuracy: 0.901077375122429, Parameters: {'max_depth': 16, 'min_samples_split': 8, 'min_samples_leaf': 3, 'criterion': 'gini'}\n",
      "Sample 5 - Accuracy: 0.8981390793339863, Parameters: {'max_depth': 14, 'min_samples_split': 4, 'min_samples_leaf': 4, 'criterion': 'entropy'}\n",
      "Sample 6 - Accuracy: 0.9113614103819785, Parameters: {'max_depth': 10, 'min_samples_split': 4, 'min_samples_leaf': 4, 'criterion': 'entropy'}\n",
      "Sample 7 - Accuracy: 0.8996082272282077, Parameters: {'max_depth': 15, 'min_samples_split': 3, 'min_samples_leaf': 2, 'criterion': 'gini'}\n",
      "Sample 8 - Accuracy: 0.8952007835455436, Parameters: {'max_depth': 12, 'min_samples_split': 8, 'min_samples_leaf': 2, 'criterion': 'entropy'}\n",
      "Sample 9 - Accuracy: 0.8949559255631734, Parameters: {'max_depth': 17, 'min_samples_split': 5, 'min_samples_leaf': 1, 'criterion': 'entropy'}\n",
      "Sample 10 - Accuracy: 0.8986287952987267, Parameters: {'max_depth': 19, 'min_samples_split': 6, 'min_samples_leaf': 4, 'criterion': 'entropy'}\n",
      "\n",
      "Best Parameters: {'max_depth': 10, 'min_samples_split': 4, 'min_samples_leaf': 4, 'criterion': 'entropy'}\n"
     ]
    },
    {
     "data": {
      "image/png": "[encoded data removed]",
      "text/plain": [
       "<Figure size 720x432 with 1 Axes>"
      ]
     },
     "metadata": {
      "needs_background": "light"
     },
     "output_type": "display_data"
    }
   ],
   "source": [
    "import pandas as pd\n",
    "from sklearn.model_selection import train_test_split\n",
    "from sklearn.tree import DecisionTreeClassifier\n",
    "from sklearn.metrics import accuracy_score\n",
    "import numpy as np\n",
    "import matplotlib.pyplot as plt\n",
    "\n",
    "dataset = pd.read_excel(\"Dry_Bean_Dataset.xlsx\")\n",
    "\n",
    "iterations = 100\n",
    "num_samples = 10\n",
    "\n",
    "best_params = {}\n",
    "best_accuracy = 0\n",
    "best_model = None\n",
    "all_accuracies = []\n",
    "\n",
    "for sample in range(num_samples):\n",
    "    train, test = train_test_split(dataset, test_size=0.3)\n",
    "    X_train = train.drop('Class', axis=1)  \n",
    "    y_train = train['Class']  \n",
    "    X_test = test.drop('Class', axis=1)  \n",
    "    y_test = test['Class'] \n",
    "\n",
    "    random_params = {\n",
    "        'max_depth': np.random.randint(1, 20),  \n",
    "        'min_samples_split': np.random.randint(2, 10),  \n",
    "        'min_samples_leaf': np.random.randint(1, 5),\n",
    "        'criterion': np.random.choice(['gini', 'entropy'])  \n",
    "    }\n",
    "    \n",
    "    model = DecisionTreeClassifier(**random_params)\n",
    "    model.fit(X_train, y_train)\n",
    "    \n",
    "    accuracy_over_iterations = []\n",
    "    for i in range(iterations):\n",
    "        model.fit(X_train, y_train)\n",
    "        y_pred = model.predict(X_test)\n",
    "        accuracy = accuracy_score(y_test, y_pred)\n",
    "        accuracy_over_iterations.append(accuracy)\n",
    "    \n",
    "    all_accuracies.extend(accuracy_over_iterations)\n",
    "    y_pred = model.predict(X_test)\n",
    "    accuracy = accuracy_score(y_test, y_pred)\n",
    "    \n",
    "    if accuracy > best_accuracy:\n",
    "        best_accuracy = accuracy\n",
    "        best_params = random_params\n",
    "        best_model = model\n",
    "    \n",
    "    print(f\"Sample {sample+1} - Accuracy: {accuracy}, Parameters: {random_params}\")\n",
    "\n",
    "all_accuracies.sort()\n",
    "print(\"\\nBest Parameters:\", best_params)\n",
    "plt.figure(figsize=(10, 6))\n",
    "plt.plot(range(num_samples*iterations), all_accuracies, color='red')\n",
    "plt.title('Accuracy-Iteration Graph')\n",
    "plt.xlabel('Iterations')\n",
    "plt.ylabel('Accuracy')\n",
    "plt.show()"
   ]
  },
  {
   "cell_type": "code",
   "execution_count": null,
   "id": "aeb7822e",
   "metadata": {},
   "outputs": [],
   "source": []
  }
 ],
 "metadata": {
  "kernelspec": {
   "display_name": "Python 3 (ipykernel)",
   "language": "python",
   "name": "python3"
  },
  "language_info": {
   "codemirror_mode": {
    "name": "ipython",
    "version": 3
   },
   "file_extension": ".py",
   "mimetype": "text/x-python",
   "name": "python",
   "nbconvert_exporter": "python",
   "pygments_lexer": "ipython3",
   "version": "3.9.12"
  }
 },
 "nbformat": 4,
 "nbformat_minor": 5
}
